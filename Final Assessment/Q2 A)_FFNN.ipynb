{
  "nbformat": 4,
  "nbformat_minor": 0,
  "metadata": {
    "colab": {
      "provenance": []
    },
    "kernelspec": {
      "name": "python3",
      "display_name": "Python 3"
    },
    "language_info": {
      "name": "python"
    },
    "accelerator": "GPU",
    "gpuClass": "standard"
  },
  "cells": [
    {
      "cell_type": "markdown",
      "source": [
        "# **a) Train a feedforward neural network to solve the classification problem**"
      ],
      "metadata": {
        "id": "okYUDSkA2fY1"
      }
    },
    {
      "cell_type": "code",
      "execution_count": 1,
      "metadata": {
        "id": "prKlfnppr4nU"
      },
      "outputs": [],
      "source": [
        "from torch.utils.data import Dataset, DataLoader\n",
        "\n",
        "import torch, torchvision\n",
        "import torch.nn as nn\n",
        "import torch.nn.functional as F\n",
        "import torch.optim as optim\n",
        "import time\n",
        "import numpy as np\n",
        "import matplotlib.pyplot as plt\n",
        "import os\n",
        "import cv2\n",
        "import glob\n",
        "import numpy\n",
        "import random\n",
        "\n",
        "from PIL import Image\n",
        "from torch.utils.data import Dataset\n",
        "from torch.utils.data import DataLoader\n",
        "from torchvision import datasets, models, transforms\n",
        "from torchsummary import summary\n",
        "\n",
        "import cv2\n",
        "import torch.nn as nn\n",
        "import glob\n",
        "import numpy\n",
        "import random\n",
        "from pandas.core.common import flatten\n",
        "from PIL import Image\n",
        "\n",
        "%matplotlib inline\n",
        "\n",
        "import matplotlib.pyplot as plt"
      ]
    },
    {
      "cell_type": "code",
      "source": [
        "#Applying Transforms to the Data\n",
        "import torchvision\n",
        "import torchvision.transforms as transforms\n",
        "\n",
        "image_transforms = {\n",
        "    'train': transforms.Compose([\n",
        "        transforms.ToTensor(),\n",
        "        transforms.Resize(size=(32,32)),\n",
        "\n",
        "        transforms.Normalize([0.485, 0.456, 0.406],\n",
        "                             [0.229, 0.224, 0.225])\n",
        "    ]),\n",
        "    'test': transforms.Compose([\n",
        "\n",
        "        transforms.ToTensor(),\n",
        "        transforms.Resize(size=(32,32)),\n",
        "        transforms.Normalize([0.485, 0.456, 0.406],\n",
        "                             [0.229, 0.224, 0.225])\n",
        "    ])\n",
        "}"
      ],
      "metadata": {
        "id": "2q3lXGcXsHNP"
      },
      "execution_count": 2,
      "outputs": []
    },
    {
      "cell_type": "code",
      "source": [
        "from google.colab import drive\n",
        "drive.mount('/content/gdrive')\n",
        "\n",
        "dataset = '/content/gdrive/My Drive/covid'\n"
      ],
      "metadata": {
        "colab": {
          "base_uri": "https://localhost:8080/"
        },
        "id": "sPg_HcjZsO5r",
        "outputId": "d132dbcb-4a10-4095-ab99-f4969ee2076a"
      },
      "execution_count": 3,
      "outputs": [
        {
          "output_type": "stream",
          "name": "stdout",
          "text": [
            "Mounted at /content/gdrive\n"
          ]
        }
      ]
    },
    {
      "cell_type": "code",
      "source": [
        "####################################################\n",
        "#       Create Train, Valid and Test sets\n",
        "####################################################\n",
        "train_data_path = dataset + '/train' \n",
        "test_data_path = dataset + '/test'\n",
        "\n",
        "train_image_paths = [] #to store image paths in list\n",
        "classes = [] #to store class values\n",
        "\n",
        "#1.\n",
        "# get all the paths from train_data_path and append image paths and class to to respective lists\n",
        "\n",
        "for data_path in glob.glob(train_data_path + '/*'):\n",
        "    classes.append(data_path.split('/')[-1]) \n",
        "    train_image_paths.append(glob.glob(data_path + '/*'))\n",
        "    \n",
        "train_image_paths = list(flatten(train_image_paths))\n",
        "random.shuffle(train_image_paths)\n",
        "\n",
        "print('train_image_path example: ', train_image_paths[0])\n",
        "print('class example: ', classes[0])\n",
        "\n",
        "#2.\n",
        "# create the test_image_paths\n",
        "test_image_paths = []\n",
        "for data_path in glob.glob(test_data_path + '/*'):\n",
        "    test_image_paths.append(glob.glob(data_path + '/*'))\n",
        "\n",
        "test_image_paths = list(flatten(test_image_paths))\n",
        "\n",
        "print(\"Train size: {}\\nTest size: {}\".format(len(train_image_paths), len(test_image_paths)))\n"
      ],
      "metadata": {
        "colab": {
          "base_uri": "https://localhost:8080/"
        },
        "id": "tkz7WO0GsTmF",
        "outputId": "32287ee4-6780-4e5e-e870-af4eb1ab417f"
      },
      "execution_count": 4,
      "outputs": [
        {
          "output_type": "stream",
          "name": "stdout",
          "text": [
            "train_image_path example:  /content/gdrive/My Drive/covid/train/Normal/084.jpeg\n",
            "class example:  Normal\n",
            "Train size: 251\n",
            "Test size: 66\n"
          ]
        }
      ]
    },
    {
      "cell_type": "code",
      "source": [
        "train_image_paths "
      ],
      "metadata": {
        "id": "8z3CF2tSpXzt",
        "colab": {
          "base_uri": "https://localhost:8080/"
        },
        "outputId": "fdbfbe5b-0622-4469-d4ca-1c6d89a54cda"
      },
      "execution_count": 5,
      "outputs": [
        {
          "output_type": "execute_result",
          "data": {
            "text/plain": [
              "['/content/gdrive/My Drive/covid/train/Normal/084.jpeg',\n",
              " '/content/gdrive/My Drive/covid/train/Covid/010.png',\n",
              " '/content/gdrive/My Drive/covid/train/Covid/012.jpeg',\n",
              " '/content/gdrive/My Drive/covid/train/Normal/059.jpeg',\n",
              " '/content/gdrive/My Drive/covid/train/Covid/COVID-00023.jpg',\n",
              " '/content/gdrive/My Drive/covid/train/Viral Pneumonia/04.jpeg',\n",
              " '/content/gdrive/My Drive/covid/train/Normal/016.jpeg',\n",
              " '/content/gdrive/My Drive/covid/train/Viral Pneumonia/025.jpeg',\n",
              " '/content/gdrive/My Drive/covid/train/Viral Pneumonia/096.jpeg',\n",
              " '/content/gdrive/My Drive/covid/train/Covid/058.jpeg',\n",
              " '/content/gdrive/My Drive/covid/train/Covid/COVID-00028.jpg',\n",
              " '/content/gdrive/My Drive/covid/train/Normal/055.jpeg',\n",
              " '/content/gdrive/My Drive/covid/train/Covid/031.jpeg',\n",
              " '/content/gdrive/My Drive/covid/train/Covid/COVID-00034.jpg',\n",
              " '/content/gdrive/My Drive/covid/train/Covid/COVID-00009.jpg',\n",
              " '/content/gdrive/My Drive/covid/train/Covid/09.png',\n",
              " '/content/gdrive/My Drive/covid/train/Viral Pneumonia/045.jpeg',\n",
              " '/content/gdrive/My Drive/covid/train/Normal/067.jpeg',\n",
              " '/content/gdrive/My Drive/covid/train/Covid/COVID-00007.jpg',\n",
              " '/content/gdrive/My Drive/covid/train/Covid/078.jpeg',\n",
              " '/content/gdrive/My Drive/covid/train/Viral Pneumonia/032.jpeg',\n",
              " '/content/gdrive/My Drive/covid/train/Normal/03.jpeg',\n",
              " '/content/gdrive/My Drive/covid/train/Normal/011.jpeg',\n",
              " '/content/gdrive/My Drive/covid/train/Covid/092.png',\n",
              " '/content/gdrive/My Drive/covid/train/Normal/02.jpeg',\n",
              " '/content/gdrive/My Drive/covid/train/Normal/082.jpeg',\n",
              " '/content/gdrive/My Drive/covid/train/Normal/095.jpeg',\n",
              " '/content/gdrive/My Drive/covid/train/Covid/06.jpeg',\n",
              " '/content/gdrive/My Drive/covid/train/Covid/026.jpeg',\n",
              " '/content/gdrive/My Drive/covid/train/Covid/084.jpeg',\n",
              " '/content/gdrive/My Drive/covid/train/Covid/090.jpeg',\n",
              " '/content/gdrive/My Drive/covid/train/Normal/080.jpeg',\n",
              " '/content/gdrive/My Drive/covid/train/Covid/COVID-00038.jpg',\n",
              " '/content/gdrive/My Drive/covid/train/Covid/045.jpeg',\n",
              " '/content/gdrive/My Drive/covid/train/Covid/046.jpeg',\n",
              " '/content/gdrive/My Drive/covid/train/Viral Pneumonia/041.jpeg',\n",
              " '/content/gdrive/My Drive/covid/train/Covid/024.jpeg',\n",
              " '/content/gdrive/My Drive/covid/train/Covid/088.jpeg',\n",
              " '/content/gdrive/My Drive/covid/train/Normal/012.jpeg',\n",
              " '/content/gdrive/My Drive/covid/train/Normal/074.jpeg',\n",
              " '/content/gdrive/My Drive/covid/train/Viral Pneumonia/05.jpeg',\n",
              " '/content/gdrive/My Drive/covid/train/Normal/019.jpeg',\n",
              " '/content/gdrive/My Drive/covid/train/Covid/042.jpeg',\n",
              " '/content/gdrive/My Drive/covid/train/Normal/06.jpeg',\n",
              " '/content/gdrive/My Drive/covid/train/Viral Pneumonia/027.jpeg',\n",
              " '/content/gdrive/My Drive/covid/train/Covid/072.jpeg',\n",
              " '/content/gdrive/My Drive/covid/train/Normal/051.jpeg',\n",
              " '/content/gdrive/My Drive/covid/train/Normal/022.jpeg',\n",
              " '/content/gdrive/My Drive/covid/train/Normal/093.jpeg',\n",
              " '/content/gdrive/My Drive/covid/train/Normal/079.jpeg',\n",
              " '/content/gdrive/My Drive/covid/train/Covid/COVID-00015a.png',\n",
              " '/content/gdrive/My Drive/covid/train/Viral Pneumonia/075.jpeg',\n",
              " '/content/gdrive/My Drive/covid/train/Viral Pneumonia/07.jpeg',\n",
              " '/content/gdrive/My Drive/covid/train/Normal/08.jpeg',\n",
              " '/content/gdrive/My Drive/covid/train/Viral Pneumonia/094.jpeg',\n",
              " '/content/gdrive/My Drive/covid/train/Covid/COVID-00011.jpg',\n",
              " '/content/gdrive/My Drive/covid/train/Covid/054.jpeg',\n",
              " '/content/gdrive/My Drive/covid/train/Normal/017.jpeg',\n",
              " '/content/gdrive/My Drive/covid/train/Viral Pneumonia/013.jpeg',\n",
              " '/content/gdrive/My Drive/covid/train/Normal/068.jpeg',\n",
              " '/content/gdrive/My Drive/covid/train/Normal/070.jpeg',\n",
              " '/content/gdrive/My Drive/covid/train/Covid/041.jpeg',\n",
              " '/content/gdrive/My Drive/covid/train/Covid/086.jpg',\n",
              " '/content/gdrive/My Drive/covid/train/Covid/083.jpeg',\n",
              " '/content/gdrive/My Drive/covid/train/Normal/096.jpeg',\n",
              " '/content/gdrive/My Drive/covid/train/Covid/015.jpg',\n",
              " '/content/gdrive/My Drive/covid/train/Covid/060.jpeg',\n",
              " '/content/gdrive/My Drive/covid/train/Viral Pneumonia/031.jpeg',\n",
              " '/content/gdrive/My Drive/covid/train/Normal/058.jpeg',\n",
              " '/content/gdrive/My Drive/covid/train/Covid/056.jpg',\n",
              " '/content/gdrive/My Drive/covid/train/Covid/COVID-00012.jpg',\n",
              " '/content/gdrive/My Drive/covid/train/Normal/062.jpeg',\n",
              " '/content/gdrive/My Drive/covid/train/Viral Pneumonia/074.jpeg',\n",
              " '/content/gdrive/My Drive/covid/train/Viral Pneumonia/010.jpeg',\n",
              " '/content/gdrive/My Drive/covid/train/Viral Pneumonia/034.jpeg',\n",
              " '/content/gdrive/My Drive/covid/train/Covid/071.jpg',\n",
              " '/content/gdrive/My Drive/covid/train/Viral Pneumonia/076.jpeg',\n",
              " '/content/gdrive/My Drive/covid/train/Normal/076.jpeg',\n",
              " '/content/gdrive/My Drive/covid/train/Viral Pneumonia/064.jpeg',\n",
              " '/content/gdrive/My Drive/covid/train/Viral Pneumonia/044.jpeg',\n",
              " '/content/gdrive/My Drive/covid/train/Covid/055.jpeg',\n",
              " '/content/gdrive/My Drive/covid/train/Normal/018.jpeg',\n",
              " '/content/gdrive/My Drive/covid/train/Normal/088.jpeg',\n",
              " '/content/gdrive/My Drive/covid/train/Covid/COVID-00018.jpg',\n",
              " '/content/gdrive/My Drive/covid/train/Covid/062.jpeg',\n",
              " '/content/gdrive/My Drive/covid/train/Viral Pneumonia/046.jpeg',\n",
              " '/content/gdrive/My Drive/covid/train/Covid/COVID-00005.jpg',\n",
              " '/content/gdrive/My Drive/covid/train/Normal/073.jpeg',\n",
              " '/content/gdrive/My Drive/covid/train/Normal/083.jpeg',\n",
              " '/content/gdrive/My Drive/covid/train/Viral Pneumonia/06.jpeg',\n",
              " '/content/gdrive/My Drive/covid/train/Normal/085.jpeg',\n",
              " '/content/gdrive/My Drive/covid/train/Covid/022.jpeg',\n",
              " '/content/gdrive/My Drive/covid/train/Covid/021.jpeg',\n",
              " '/content/gdrive/My Drive/covid/train/Covid/053.jpeg',\n",
              " '/content/gdrive/My Drive/covid/train/Normal/069.jpeg',\n",
              " '/content/gdrive/My Drive/covid/train/Viral Pneumonia/018.jpeg',\n",
              " '/content/gdrive/My Drive/covid/train/Covid/COVID-00037.jpg',\n",
              " '/content/gdrive/My Drive/covid/train/Normal/056.jpeg',\n",
              " '/content/gdrive/My Drive/covid/train/Covid/COVID-00004.jpg',\n",
              " '/content/gdrive/My Drive/covid/train/Viral Pneumonia/095.jpeg',\n",
              " '/content/gdrive/My Drive/covid/train/Covid/COVID-00026.jpg',\n",
              " '/content/gdrive/My Drive/covid/train/Covid/074.jpg',\n",
              " '/content/gdrive/My Drive/covid/train/Viral Pneumonia/066.jpeg',\n",
              " '/content/gdrive/My Drive/covid/train/Normal/07.jpeg',\n",
              " '/content/gdrive/My Drive/covid/train/Normal/086.jpeg',\n",
              " '/content/gdrive/My Drive/covid/train/Normal/071.jpeg',\n",
              " '/content/gdrive/My Drive/covid/train/Viral Pneumonia/037.jpeg',\n",
              " '/content/gdrive/My Drive/covid/train/Covid/040.jpeg',\n",
              " '/content/gdrive/My Drive/covid/train/Covid/COVID-00036.jpg',\n",
              " '/content/gdrive/My Drive/covid/train/Viral Pneumonia/052.jpeg',\n",
              " '/content/gdrive/My Drive/covid/train/Viral Pneumonia/048.jpeg',\n",
              " '/content/gdrive/My Drive/covid/train/Covid/COVID-00002.jpg',\n",
              " '/content/gdrive/My Drive/covid/train/Normal/015.jpeg',\n",
              " '/content/gdrive/My Drive/covid/train/Normal/013.jpeg',\n",
              " '/content/gdrive/My Drive/covid/train/Covid/020.jpg',\n",
              " '/content/gdrive/My Drive/covid/train/Covid/089.jpg',\n",
              " '/content/gdrive/My Drive/covid/train/Viral Pneumonia/051.jpeg',\n",
              " '/content/gdrive/My Drive/covid/train/Covid/COVID-00033.jpg',\n",
              " '/content/gdrive/My Drive/covid/train/Covid/052.jpeg',\n",
              " '/content/gdrive/My Drive/covid/train/Normal/077.jpeg',\n",
              " '/content/gdrive/My Drive/covid/train/Normal/024.jpeg',\n",
              " '/content/gdrive/My Drive/covid/train/Covid/059.jpeg',\n",
              " '/content/gdrive/My Drive/covid/train/Covid/027.jpeg',\n",
              " '/content/gdrive/My Drive/covid/train/Viral Pneumonia/020.jpeg',\n",
              " '/content/gdrive/My Drive/covid/train/Covid/057.jpeg',\n",
              " '/content/gdrive/My Drive/covid/train/Covid/079.jpeg',\n",
              " '/content/gdrive/My Drive/covid/train/Viral Pneumonia/011.jpeg',\n",
              " '/content/gdrive/My Drive/covid/train/Normal/060.jpeg',\n",
              " '/content/gdrive/My Drive/covid/train/Covid/COVID-00001.jpg',\n",
              " '/content/gdrive/My Drive/covid/train/Covid/019.png',\n",
              " '/content/gdrive/My Drive/covid/train/Normal/092.jpeg',\n",
              " '/content/gdrive/My Drive/covid/train/Covid/061.jpg',\n",
              " '/content/gdrive/My Drive/covid/train/Covid/COVID-00027.jpg',\n",
              " '/content/gdrive/My Drive/covid/train/Viral Pneumonia/067.jpeg',\n",
              " '/content/gdrive/My Drive/covid/train/Covid/COVID-00015b.png',\n",
              " '/content/gdrive/My Drive/covid/train/Normal/075.jpeg',\n",
              " '/content/gdrive/My Drive/covid/train/Normal/081.jpeg',\n",
              " '/content/gdrive/My Drive/covid/train/Normal/064.jpeg',\n",
              " '/content/gdrive/My Drive/covid/train/Viral Pneumonia/09.jpeg',\n",
              " '/content/gdrive/My Drive/covid/train/Normal/021.jpeg',\n",
              " '/content/gdrive/My Drive/covid/train/Normal/087.jpeg',\n",
              " '/content/gdrive/My Drive/covid/train/Normal/04.jpeg',\n",
              " '/content/gdrive/My Drive/covid/train/Normal/054.jpeg',\n",
              " '/content/gdrive/My Drive/covid/train/Normal/020.jpeg',\n",
              " '/content/gdrive/My Drive/covid/train/Normal/053.jpeg',\n",
              " '/content/gdrive/My Drive/covid/train/Covid/085.jpeg',\n",
              " '/content/gdrive/My Drive/covid/train/Covid/065.jpeg',\n",
              " '/content/gdrive/My Drive/covid/train/Covid/091.jpg',\n",
              " '/content/gdrive/My Drive/covid/train/Normal/094.jpeg',\n",
              " '/content/gdrive/My Drive/covid/train/Viral Pneumonia/033.jpeg',\n",
              " '/content/gdrive/My Drive/covid/train/Viral Pneumonia/047.jpeg',\n",
              " '/content/gdrive/My Drive/covid/train/Viral Pneumonia/062.jpeg',\n",
              " '/content/gdrive/My Drive/covid/train/Normal/09.jpeg',\n",
              " '/content/gdrive/My Drive/covid/train/Viral Pneumonia/061.jpeg',\n",
              " '/content/gdrive/My Drive/covid/train/Viral Pneumonia/081.jpeg',\n",
              " '/content/gdrive/My Drive/covid/train/Covid/050.jpeg',\n",
              " '/content/gdrive/My Drive/covid/train/Covid/081.jpeg',\n",
              " '/content/gdrive/My Drive/covid/train/Covid/073.jpg',\n",
              " '/content/gdrive/My Drive/covid/train/Normal/01.jpeg',\n",
              " '/content/gdrive/My Drive/covid/train/Covid/COVID-00035.jpg',\n",
              " '/content/gdrive/My Drive/covid/train/Viral Pneumonia/08.jpeg',\n",
              " '/content/gdrive/My Drive/covid/train/Normal/057.jpeg',\n",
              " '/content/gdrive/My Drive/covid/train/Covid/067.jpg',\n",
              " '/content/gdrive/My Drive/covid/train/Viral Pneumonia/056.jpeg',\n",
              " '/content/gdrive/My Drive/covid/train/Covid/COVID-00032.jpg',\n",
              " '/content/gdrive/My Drive/covid/train/Normal/014.jpeg',\n",
              " '/content/gdrive/My Drive/covid/train/Covid/049.jpeg',\n",
              " '/content/gdrive/My Drive/covid/train/Normal/065.jpeg',\n",
              " '/content/gdrive/My Drive/covid/train/Covid/025.jpeg',\n",
              " '/content/gdrive/My Drive/covid/train/Viral Pneumonia/078.jpeg',\n",
              " '/content/gdrive/My Drive/covid/train/Normal/05.jpeg',\n",
              " '/content/gdrive/My Drive/covid/train/Viral Pneumonia/038.jpeg',\n",
              " '/content/gdrive/My Drive/covid/train/Covid/044.jpeg',\n",
              " '/content/gdrive/My Drive/covid/train/Normal/050.jpeg',\n",
              " '/content/gdrive/My Drive/covid/train/Covid/048.jpeg',\n",
              " '/content/gdrive/My Drive/covid/train/Covid/COVID-00013b.jpg',\n",
              " '/content/gdrive/My Drive/covid/train/Viral Pneumonia/083.jpeg',\n",
              " '/content/gdrive/My Drive/covid/train/Viral Pneumonia/035.jpeg',\n",
              " '/content/gdrive/My Drive/covid/train/Viral Pneumonia/058.jpeg',\n",
              " '/content/gdrive/My Drive/covid/train/Viral Pneumonia/023.jpeg',\n",
              " '/content/gdrive/My Drive/covid/train/Covid/COVID-00029.jpg',\n",
              " '/content/gdrive/My Drive/covid/train/Viral Pneumonia/022.jpeg',\n",
              " '/content/gdrive/My Drive/covid/train/Viral Pneumonia/082.jpeg',\n",
              " '/content/gdrive/My Drive/covid/train/Viral Pneumonia/016.jpeg',\n",
              " '/content/gdrive/My Drive/covid/train/Normal/091.jpeg',\n",
              " '/content/gdrive/My Drive/covid/train/Covid/047.jpeg',\n",
              " '/content/gdrive/My Drive/covid/train/Covid/082.jpg',\n",
              " '/content/gdrive/My Drive/covid/train/Viral Pneumonia/012.jpeg',\n",
              " '/content/gdrive/My Drive/covid/train/Covid/076.jpg',\n",
              " '/content/gdrive/My Drive/covid/train/Viral Pneumonia/054.jpeg',\n",
              " '/content/gdrive/My Drive/covid/train/Normal/010.jpeg',\n",
              " '/content/gdrive/My Drive/covid/train/Covid/COVID-00003b.jpg',\n",
              " '/content/gdrive/My Drive/covid/train/Covid/064.jpg',\n",
              " '/content/gdrive/My Drive/covid/train/Covid/COVID-00019.jpg',\n",
              " '/content/gdrive/My Drive/covid/train/Viral Pneumonia/068.jpeg',\n",
              " '/content/gdrive/My Drive/covid/train/Covid/08.jpeg',\n",
              " '/content/gdrive/My Drive/covid/train/Normal/097.jpeg',\n",
              " '/content/gdrive/My Drive/covid/train/Covid/COVID-00016.jpg',\n",
              " '/content/gdrive/My Drive/covid/train/Normal/061.jpeg',\n",
              " '/content/gdrive/My Drive/covid/train/Viral Pneumonia/073.jpeg',\n",
              " '/content/gdrive/My Drive/covid/train/Covid/069.jpg',\n",
              " '/content/gdrive/My Drive/covid/train/Normal/052.jpeg',\n",
              " '/content/gdrive/My Drive/covid/train/Viral Pneumonia/053.jpeg',\n",
              " '/content/gdrive/My Drive/covid/train/Covid/068.jpg',\n",
              " '/content/gdrive/My Drive/covid/train/Normal/063.jpeg',\n",
              " '/content/gdrive/My Drive/covid/train/Normal/072.jpeg',\n",
              " '/content/gdrive/My Drive/covid/train/Viral Pneumonia/065.jpeg',\n",
              " '/content/gdrive/My Drive/covid/train/Viral Pneumonia/063.jpeg',\n",
              " '/content/gdrive/My Drive/covid/train/Viral Pneumonia/043.jpeg',\n",
              " '/content/gdrive/My Drive/covid/train/Covid/COVID-00006.jpg',\n",
              " '/content/gdrive/My Drive/covid/train/Normal/023.jpeg',\n",
              " '/content/gdrive/My Drive/covid/train/Viral Pneumonia/042.jpeg',\n",
              " '/content/gdrive/My Drive/covid/train/Covid/COVID-00010.jpg',\n",
              " '/content/gdrive/My Drive/covid/train/Viral Pneumonia/077.jpeg',\n",
              " '/content/gdrive/My Drive/covid/train/Covid/032.jpeg',\n",
              " '/content/gdrive/My Drive/covid/train/Covid/COVID-00021.jpg',\n",
              " '/content/gdrive/My Drive/covid/train/Viral Pneumonia/021.jpeg',\n",
              " '/content/gdrive/My Drive/covid/train/Viral Pneumonia/055.jpeg',\n",
              " '/content/gdrive/My Drive/covid/train/Covid/COVID-00008.jpg',\n",
              " '/content/gdrive/My Drive/covid/train/Covid/051.jpeg',\n",
              " '/content/gdrive/My Drive/covid/train/Covid/COVID-00025.jpg',\n",
              " '/content/gdrive/My Drive/covid/train/Normal/066.jpeg',\n",
              " '/content/gdrive/My Drive/covid/train/Viral Pneumonia/019.jpeg',\n",
              " '/content/gdrive/My Drive/covid/train/Covid/043.jpeg',\n",
              " '/content/gdrive/My Drive/covid/train/Viral Pneumonia/01.jpeg',\n",
              " '/content/gdrive/My Drive/covid/train/Covid/04.png',\n",
              " '/content/gdrive/My Drive/covid/train/Viral Pneumonia/057.jpeg',\n",
              " '/content/gdrive/My Drive/covid/train/Covid/COVID-00030.jpg',\n",
              " '/content/gdrive/My Drive/covid/train/Covid/COVID-00003a.jpg',\n",
              " '/content/gdrive/My Drive/covid/train/Viral Pneumonia/02.jpeg',\n",
              " '/content/gdrive/My Drive/covid/train/Covid/COVID-00020.jpg',\n",
              " '/content/gdrive/My Drive/covid/train/Covid/02.jpeg',\n",
              " '/content/gdrive/My Drive/covid/train/Viral Pneumonia/036.jpeg',\n",
              " '/content/gdrive/My Drive/covid/train/Covid/039.jpeg',\n",
              " '/content/gdrive/My Drive/covid/train/Covid/07.jpg',\n",
              " '/content/gdrive/My Drive/covid/train/Covid/COVID-00022.jpg',\n",
              " '/content/gdrive/My Drive/covid/train/Viral Pneumonia/072.jpeg',\n",
              " '/content/gdrive/My Drive/covid/train/Covid/03.jpeg',\n",
              " '/content/gdrive/My Drive/covid/train/Covid/033.png',\n",
              " '/content/gdrive/My Drive/covid/train/Covid/COVID-00014.jpg',\n",
              " '/content/gdrive/My Drive/covid/train/Viral Pneumonia/024.jpeg',\n",
              " '/content/gdrive/My Drive/covid/train/Normal/025.jpeg',\n",
              " '/content/gdrive/My Drive/covid/train/Viral Pneumonia/03.jpeg',\n",
              " '/content/gdrive/My Drive/covid/train/Covid/COVID-00031.jpg',\n",
              " '/content/gdrive/My Drive/covid/train/Covid/COVID-00017.jpg',\n",
              " '/content/gdrive/My Drive/covid/train/Viral Pneumonia/071.jpeg',\n",
              " '/content/gdrive/My Drive/covid/train/Covid/COVID-00024.jpg',\n",
              " '/content/gdrive/My Drive/covid/train/Covid/01.jpeg',\n",
              " '/content/gdrive/My Drive/covid/train/Viral Pneumonia/084.jpeg',\n",
              " '/content/gdrive/My Drive/covid/train/Covid/COVID-00013a.jpg',\n",
              " '/content/gdrive/My Drive/covid/train/Covid/080.jpg']"
            ]
          },
          "metadata": {},
          "execution_count": 5
        }
      ]
    },
    {
      "cell_type": "code",
      "source": [
        "idx_to_class = {i:j for i, j in enumerate(classes)}\n",
        "class_to_idx = {value:key for key,value in idx_to_class.items()}\n",
        "class_to_idx\n"
      ],
      "metadata": {
        "colab": {
          "base_uri": "https://localhost:8080/"
        },
        "id": "vo4grD00sZpu",
        "outputId": "8db3d7fc-186b-46af-9144-1bdc378f04dd"
      },
      "execution_count": 6,
      "outputs": [
        {
          "output_type": "execute_result",
          "data": {
            "text/plain": [
              "{'Normal': 0, 'Covid': 1, 'Viral Pneumonia': 2}"
            ]
          },
          "metadata": {},
          "execution_count": 6
        }
      ]
    },
    {
      "cell_type": "code",
      "source": [
        "from torch.utils.data import Dataset\n",
        "\n",
        "#######################################################\n",
        "#               Define Dataset Class\n",
        "#######################################################\n",
        "\n",
        "class covid(Dataset):\n",
        "    def __init__(self, image_paths, transform=False):\n",
        "        self.image_paths = image_paths\n",
        "        self.transform = transform\n",
        "        \n",
        "    def __len__(self):\n",
        "        return len(self.image_paths)\n",
        "\n",
        "    def __getitem__(self, idx):\n",
        "        image_filepath = self.image_paths[idx]\n",
        "#         image = cv2.imread(image_filepath)\n",
        "#         image = cv2.cvtColor(image, cv2.COLOR_BGR2RGB)\n",
        "        image = Image.open(image_filepath).convert('RGB') # if using torchvision transforms\n",
        "        # print(image_filepath)\n",
        "        label = image_filepath.split('/')[-2]\n",
        "        # print(label)\n",
        "        label = class_to_idx[label]\n",
        "        if self.transform is not None:\n",
        "            image = self.transform(image) # if using torchvision transforms\n",
        "        \n",
        "        return image, label"
      ],
      "metadata": {
        "id": "Da4lEPCm5W-r"
      },
      "execution_count": 7,
      "outputs": []
    },
    {
      "cell_type": "code",
      "source": [
        "#######################################################\n",
        "#                  Create Dataset\n",
        "#######################################################\n",
        "\n",
        "train_dataset = covid(train_image_paths,image_transforms['train'])\n",
        "test_dataset = covid(test_image_paths,image_transforms['test'])\n"
      ],
      "metadata": {
        "id": "xetYN25e5b8J"
      },
      "execution_count": 8,
      "outputs": []
    },
    {
      "cell_type": "code",
      "source": [
        "train_dataset.image_paths"
      ],
      "metadata": {
        "colab": {
          "base_uri": "https://localhost:8080/"
        },
        "id": "lQUVPZrxenTm",
        "outputId": "40035957-ab80-4219-967c-0708a58d6b32"
      },
      "execution_count": null,
      "outputs": [
        {
          "output_type": "execute_result",
          "data": {
            "text/plain": [
              "['/content/gdrive/My Drive/covid/train/Covid/COVID-00003a.jpg',\n",
              " '/content/gdrive/My Drive/covid/train/Covid/062.jpeg',\n",
              " '/content/gdrive/My Drive/covid/train/Viral Pneumonia/066.jpeg',\n",
              " '/content/gdrive/My Drive/covid/train/Normal/066.jpeg',\n",
              " '/content/gdrive/My Drive/covid/train/Normal/06.jpeg',\n",
              " '/content/gdrive/My Drive/covid/train/Viral Pneumonia/076.jpeg',\n",
              " '/content/gdrive/My Drive/covid/train/Covid/019.png',\n",
              " '/content/gdrive/My Drive/covid/train/Covid/08.jpeg',\n",
              " '/content/gdrive/My Drive/covid/train/Covid/047.jpeg',\n",
              " '/content/gdrive/My Drive/covid/train/Covid/07.jpg',\n",
              " '/content/gdrive/My Drive/covid/train/Covid/COVID-00035.jpg',\n",
              " '/content/gdrive/My Drive/covid/train/Viral Pneumonia/031.jpeg',\n",
              " '/content/gdrive/My Drive/covid/train/Viral Pneumonia/063.jpeg',\n",
              " '/content/gdrive/My Drive/covid/train/Covid/01.jpeg',\n",
              " '/content/gdrive/My Drive/covid/train/Viral Pneumonia/04.jpeg',\n",
              " '/content/gdrive/My Drive/covid/train/Normal/061.jpeg',\n",
              " '/content/gdrive/My Drive/covid/train/Covid/065.jpeg',\n",
              " '/content/gdrive/My Drive/covid/train/Normal/025.jpeg',\n",
              " '/content/gdrive/My Drive/covid/train/Normal/097.jpeg',\n",
              " '/content/gdrive/My Drive/covid/train/Viral Pneumonia/077.jpeg',\n",
              " '/content/gdrive/My Drive/covid/train/Normal/085.jpeg',\n",
              " '/content/gdrive/My Drive/covid/train/Viral Pneumonia/055.jpeg',\n",
              " '/content/gdrive/My Drive/covid/train/Covid/055.jpeg',\n",
              " '/content/gdrive/My Drive/covid/train/Covid/078.jpeg',\n",
              " '/content/gdrive/My Drive/covid/train/Viral Pneumonia/023.jpeg',\n",
              " '/content/gdrive/My Drive/covid/train/Viral Pneumonia/074.jpeg',\n",
              " '/content/gdrive/My Drive/covid/train/Covid/091.jpg',\n",
              " '/content/gdrive/My Drive/covid/train/Viral Pneumonia/01.jpeg',\n",
              " '/content/gdrive/My Drive/covid/train/Covid/082.jpg',\n",
              " '/content/gdrive/My Drive/covid/train/Covid/COVID-00017.jpg',\n",
              " '/content/gdrive/My Drive/covid/train/Covid/046.jpeg',\n",
              " '/content/gdrive/My Drive/covid/train/Viral Pneumonia/073.jpeg',\n",
              " '/content/gdrive/My Drive/covid/train/Normal/091.jpeg',\n",
              " '/content/gdrive/My Drive/covid/train/Normal/015.jpeg',\n",
              " '/content/gdrive/My Drive/covid/train/Viral Pneumonia/082.jpeg',\n",
              " '/content/gdrive/My Drive/covid/train/Covid/COVID-00030.jpg',\n",
              " '/content/gdrive/My Drive/covid/train/Normal/088.jpeg',\n",
              " '/content/gdrive/My Drive/covid/train/Normal/05.jpeg',\n",
              " '/content/gdrive/My Drive/covid/train/Covid/06.jpeg',\n",
              " '/content/gdrive/My Drive/covid/train/Viral Pneumonia/081.jpeg',\n",
              " '/content/gdrive/My Drive/covid/train/Covid/COVID-00014.jpg',\n",
              " '/content/gdrive/My Drive/covid/train/Normal/022.jpeg',\n",
              " '/content/gdrive/My Drive/covid/train/Covid/052.jpeg',\n",
              " '/content/gdrive/My Drive/covid/train/Covid/COVID-00002.jpg',\n",
              " '/content/gdrive/My Drive/covid/train/Normal/087.jpeg',\n",
              " '/content/gdrive/My Drive/covid/train/Covid/COVID-00020.jpg',\n",
              " '/content/gdrive/My Drive/covid/train/Covid/COVID-00013b.jpg',\n",
              " '/content/gdrive/My Drive/covid/train/Viral Pneumonia/042.jpeg',\n",
              " '/content/gdrive/My Drive/covid/train/Viral Pneumonia/044.jpeg',\n",
              " '/content/gdrive/My Drive/covid/train/Viral Pneumonia/052.jpeg',\n",
              " '/content/gdrive/My Drive/covid/train/Viral Pneumonia/054.jpeg',\n",
              " '/content/gdrive/My Drive/covid/train/Covid/COVID-00038.jpg',\n",
              " '/content/gdrive/My Drive/covid/train/Normal/052.jpeg',\n",
              " '/content/gdrive/My Drive/covid/train/Covid/09.png',\n",
              " '/content/gdrive/My Drive/covid/train/Covid/COVID-00015b.png',\n",
              " '/content/gdrive/My Drive/covid/train/Normal/023.jpeg',\n",
              " '/content/gdrive/My Drive/covid/train/Covid/COVID-00008.jpg',\n",
              " '/content/gdrive/My Drive/covid/train/Normal/077.jpeg',\n",
              " '/content/gdrive/My Drive/covid/train/Covid/053.jpeg',\n",
              " '/content/gdrive/My Drive/covid/train/Normal/017.jpeg',\n",
              " '/content/gdrive/My Drive/covid/train/Covid/080.jpg',\n",
              " '/content/gdrive/My Drive/covid/train/Viral Pneumonia/062.jpeg',\n",
              " '/content/gdrive/My Drive/covid/train/Covid/COVID-00007.jpg',\n",
              " '/content/gdrive/My Drive/covid/train/Normal/02.jpeg',\n",
              " '/content/gdrive/My Drive/covid/train/Normal/013.jpeg',\n",
              " '/content/gdrive/My Drive/covid/train/Normal/069.jpeg',\n",
              " '/content/gdrive/My Drive/covid/train/Normal/020.jpeg',\n",
              " '/content/gdrive/My Drive/covid/train/Covid/058.jpeg',\n",
              " '/content/gdrive/My Drive/covid/train/Covid/039.jpeg',\n",
              " '/content/gdrive/My Drive/covid/train/Viral Pneumonia/034.jpeg',\n",
              " '/content/gdrive/My Drive/covid/train/Covid/COVID-00015a.png',\n",
              " '/content/gdrive/My Drive/covid/train/Covid/COVID-00004.jpg',\n",
              " '/content/gdrive/My Drive/covid/train/Normal/051.jpeg',\n",
              " '/content/gdrive/My Drive/covid/train/Covid/067.jpg',\n",
              " '/content/gdrive/My Drive/covid/train/Covid/060.jpeg',\n",
              " '/content/gdrive/My Drive/covid/train/Covid/COVID-00001.jpg',\n",
              " '/content/gdrive/My Drive/covid/train/Viral Pneumonia/09.jpeg',\n",
              " '/content/gdrive/My Drive/covid/train/Covid/068.jpg',\n",
              " '/content/gdrive/My Drive/covid/train/Normal/092.jpeg',\n",
              " '/content/gdrive/My Drive/covid/train/Covid/010.png',\n",
              " '/content/gdrive/My Drive/covid/train/Normal/094.jpeg',\n",
              " '/content/gdrive/My Drive/covid/train/Viral Pneumonia/010.jpeg',\n",
              " '/content/gdrive/My Drive/covid/train/Covid/032.jpeg',\n",
              " '/content/gdrive/My Drive/covid/train/Normal/080.jpeg',\n",
              " '/content/gdrive/My Drive/covid/train/Covid/COVID-00027.jpg',\n",
              " '/content/gdrive/My Drive/covid/train/Viral Pneumonia/071.jpeg',\n",
              " '/content/gdrive/My Drive/covid/train/Covid/027.jpeg',\n",
              " '/content/gdrive/My Drive/covid/train/Normal/075.jpeg',\n",
              " '/content/gdrive/My Drive/covid/train/Covid/050.jpeg',\n",
              " '/content/gdrive/My Drive/covid/train/Viral Pneumonia/064.jpeg',\n",
              " '/content/gdrive/My Drive/covid/train/Covid/049.jpeg',\n",
              " '/content/gdrive/My Drive/covid/train/Covid/051.jpeg',\n",
              " '/content/gdrive/My Drive/covid/train/Viral Pneumonia/094.jpeg',\n",
              " '/content/gdrive/My Drive/covid/train/Covid/085.jpeg',\n",
              " '/content/gdrive/My Drive/covid/train/Viral Pneumonia/046.jpeg',\n",
              " '/content/gdrive/My Drive/covid/train/Viral Pneumonia/018.jpeg',\n",
              " '/content/gdrive/My Drive/covid/train/Viral Pneumonia/07.jpeg',\n",
              " '/content/gdrive/My Drive/covid/train/Viral Pneumonia/021.jpeg',\n",
              " '/content/gdrive/My Drive/covid/train/Covid/COVID-00028.jpg',\n",
              " '/content/gdrive/My Drive/covid/train/Covid/COVID-00025.jpg',\n",
              " '/content/gdrive/My Drive/covid/train/Normal/084.jpeg',\n",
              " '/content/gdrive/My Drive/covid/train/Normal/01.jpeg',\n",
              " '/content/gdrive/My Drive/covid/train/Normal/07.jpeg',\n",
              " '/content/gdrive/My Drive/covid/train/Covid/COVID-00037.jpg',\n",
              " '/content/gdrive/My Drive/covid/train/Covid/021.jpeg',\n",
              " '/content/gdrive/My Drive/covid/train/Covid/COVID-00024.jpg',\n",
              " '/content/gdrive/My Drive/covid/train/Viral Pneumonia/020.jpeg',\n",
              " '/content/gdrive/My Drive/covid/train/Covid/081.jpeg',\n",
              " '/content/gdrive/My Drive/covid/train/Normal/071.jpeg',\n",
              " '/content/gdrive/My Drive/covid/train/Normal/086.jpeg',\n",
              " '/content/gdrive/My Drive/covid/train/Viral Pneumonia/056.jpeg',\n",
              " '/content/gdrive/My Drive/covid/train/Normal/018.jpeg',\n",
              " '/content/gdrive/My Drive/covid/train/Normal/014.jpeg',\n",
              " '/content/gdrive/My Drive/covid/train/Normal/08.jpeg',\n",
              " '/content/gdrive/My Drive/covid/train/Normal/011.jpeg',\n",
              " '/content/gdrive/My Drive/covid/train/Normal/095.jpeg',\n",
              " '/content/gdrive/My Drive/covid/train/Covid/COVID-00023.jpg',\n",
              " '/content/gdrive/My Drive/covid/train/Normal/053.jpeg',\n",
              " '/content/gdrive/My Drive/covid/train/Covid/061.jpg',\n",
              " '/content/gdrive/My Drive/covid/train/Viral Pneumonia/048.jpeg',\n",
              " '/content/gdrive/My Drive/covid/train/Viral Pneumonia/012.jpeg',\n",
              " '/content/gdrive/My Drive/covid/train/Normal/057.jpeg',\n",
              " '/content/gdrive/My Drive/covid/train/Viral Pneumonia/047.jpeg',\n",
              " '/content/gdrive/My Drive/covid/train/Covid/076.jpg',\n",
              " '/content/gdrive/My Drive/covid/train/Viral Pneumonia/057.jpeg',\n",
              " '/content/gdrive/My Drive/covid/train/Viral Pneumonia/013.jpeg',\n",
              " '/content/gdrive/My Drive/covid/train/Covid/COVID-00031.jpg',\n",
              " '/content/gdrive/My Drive/covid/train/Normal/093.jpeg',\n",
              " '/content/gdrive/My Drive/covid/train/Normal/058.jpeg',\n",
              " '/content/gdrive/My Drive/covid/train/Covid/04.png',\n",
              " '/content/gdrive/My Drive/covid/train/Covid/COVID-00003b.jpg',\n",
              " '/content/gdrive/My Drive/covid/train/Covid/042.jpeg',\n",
              " '/content/gdrive/My Drive/covid/train/Covid/COVID-00009.jpg',\n",
              " '/content/gdrive/My Drive/covid/train/Covid/069.jpg',\n",
              " '/content/gdrive/My Drive/covid/train/Normal/019.jpeg',\n",
              " '/content/gdrive/My Drive/covid/train/Covid/COVID-00034.jpg',\n",
              " '/content/gdrive/My Drive/covid/train/Covid/031.jpeg',\n",
              " '/content/gdrive/My Drive/covid/train/Normal/063.jpeg',\n",
              " '/content/gdrive/My Drive/covid/train/Normal/010.jpeg',\n",
              " '/content/gdrive/My Drive/covid/train/Viral Pneumonia/025.jpeg',\n",
              " '/content/gdrive/My Drive/covid/train/Viral Pneumonia/06.jpeg',\n",
              " '/content/gdrive/My Drive/covid/train/Covid/015.jpg',\n",
              " '/content/gdrive/My Drive/covid/train/Viral Pneumonia/033.jpeg',\n",
              " '/content/gdrive/My Drive/covid/train/Covid/090.jpeg',\n",
              " '/content/gdrive/My Drive/covid/train/Covid/084.jpeg',\n",
              " '/content/gdrive/My Drive/covid/train/Normal/059.jpeg',\n",
              " '/content/gdrive/My Drive/covid/train/Normal/04.jpeg',\n",
              " '/content/gdrive/My Drive/covid/train/Covid/057.jpeg',\n",
              " '/content/gdrive/My Drive/covid/train/Viral Pneumonia/084.jpeg',\n",
              " '/content/gdrive/My Drive/covid/train/Covid/COVID-00022.jpg',\n",
              " '/content/gdrive/My Drive/covid/train/Viral Pneumonia/053.jpeg',\n",
              " '/content/gdrive/My Drive/covid/train/Covid/079.jpeg',\n",
              " '/content/gdrive/My Drive/covid/train/Normal/073.jpeg',\n",
              " '/content/gdrive/My Drive/covid/train/Normal/076.jpeg',\n",
              " '/content/gdrive/My Drive/covid/train/Covid/COVID-00036.jpg',\n",
              " '/content/gdrive/My Drive/covid/train/Covid/040.jpeg',\n",
              " '/content/gdrive/My Drive/covid/train/Normal/055.jpeg',\n",
              " '/content/gdrive/My Drive/covid/train/Covid/054.jpeg',\n",
              " '/content/gdrive/My Drive/covid/train/Covid/COVID-00010.jpg',\n",
              " '/content/gdrive/My Drive/covid/train/Viral Pneumonia/024.jpeg',\n",
              " '/content/gdrive/My Drive/covid/train/Normal/056.jpeg',\n",
              " '/content/gdrive/My Drive/covid/train/Viral Pneumonia/016.jpeg',\n",
              " '/content/gdrive/My Drive/covid/train/Normal/082.jpeg',\n",
              " '/content/gdrive/My Drive/covid/train/Viral Pneumonia/058.jpeg',\n",
              " '/content/gdrive/My Drive/covid/train/Normal/03.jpeg',\n",
              " '/content/gdrive/My Drive/covid/train/Covid/088.jpeg',\n",
              " '/content/gdrive/My Drive/covid/train/Covid/COVID-00029.jpg',\n",
              " '/content/gdrive/My Drive/covid/train/Normal/068.jpeg',\n",
              " '/content/gdrive/My Drive/covid/train/Normal/016.jpeg',\n",
              " '/content/gdrive/My Drive/covid/train/Viral Pneumonia/022.jpeg',\n",
              " '/content/gdrive/My Drive/covid/train/Covid/COVID-00019.jpg',\n",
              " '/content/gdrive/My Drive/covid/train/Normal/083.jpeg',\n",
              " '/content/gdrive/My Drive/covid/train/Covid/059.jpeg',\n",
              " '/content/gdrive/My Drive/covid/train/Covid/044.jpeg',\n",
              " '/content/gdrive/My Drive/covid/train/Normal/067.jpeg',\n",
              " '/content/gdrive/My Drive/covid/train/Covid/073.jpg',\n",
              " '/content/gdrive/My Drive/covid/train/Normal/079.jpeg',\n",
              " '/content/gdrive/My Drive/covid/train/Covid/COVID-00006.jpg',\n",
              " '/content/gdrive/My Drive/covid/train/Normal/024.jpeg',\n",
              " '/content/gdrive/My Drive/covid/train/Covid/083.jpeg',\n",
              " '/content/gdrive/My Drive/covid/train/Viral Pneumonia/072.jpeg',\n",
              " '/content/gdrive/My Drive/covid/train/Covid/COVID-00033.jpg',\n",
              " '/content/gdrive/My Drive/covid/train/Viral Pneumonia/03.jpeg',\n",
              " '/content/gdrive/My Drive/covid/train/Covid/COVID-00021.jpg',\n",
              " '/content/gdrive/My Drive/covid/train/Covid/024.jpeg',\n",
              " '/content/gdrive/My Drive/covid/train/Normal/054.jpeg',\n",
              " '/content/gdrive/My Drive/covid/train/Viral Pneumonia/041.jpeg',\n",
              " '/content/gdrive/My Drive/covid/train/Viral Pneumonia/045.jpeg',\n",
              " '/content/gdrive/My Drive/covid/train/Normal/09.jpeg',\n",
              " '/content/gdrive/My Drive/covid/train/Covid/020.jpg',\n",
              " '/content/gdrive/My Drive/covid/train/Normal/072.jpeg',\n",
              " '/content/gdrive/My Drive/covid/train/Viral Pneumonia/019.jpeg',\n",
              " '/content/gdrive/My Drive/covid/train/Covid/033.png',\n",
              " '/content/gdrive/My Drive/covid/train/Viral Pneumonia/037.jpeg',\n",
              " '/content/gdrive/My Drive/covid/train/Viral Pneumonia/038.jpeg',\n",
              " '/content/gdrive/My Drive/covid/train/Viral Pneumonia/032.jpeg',\n",
              " '/content/gdrive/My Drive/covid/train/Normal/012.jpeg',\n",
              " '/content/gdrive/My Drive/covid/train/Viral Pneumonia/02.jpeg',\n",
              " '/content/gdrive/My Drive/covid/train/Normal/065.jpeg',\n",
              " '/content/gdrive/My Drive/covid/train/Covid/COVID-00011.jpg',\n",
              " '/content/gdrive/My Drive/covid/train/Covid/025.jpeg',\n",
              " '/content/gdrive/My Drive/covid/train/Normal/060.jpeg',\n",
              " '/content/gdrive/My Drive/covid/train/Covid/012.jpeg',\n",
              " '/content/gdrive/My Drive/covid/train/Covid/056.jpg',\n",
              " '/content/gdrive/My Drive/covid/train/Normal/070.jpeg',\n",
              " '/content/gdrive/My Drive/covid/train/Covid/COVID-00005.jpg',\n",
              " '/content/gdrive/My Drive/covid/train/Viral Pneumonia/075.jpeg',\n",
              " '/content/gdrive/My Drive/covid/train/Covid/086.jpg',\n",
              " '/content/gdrive/My Drive/covid/train/Viral Pneumonia/051.jpeg',\n",
              " '/content/gdrive/My Drive/covid/train/Covid/026.jpeg',\n",
              " '/content/gdrive/My Drive/covid/train/Viral Pneumonia/065.jpeg',\n",
              " '/content/gdrive/My Drive/covid/train/Viral Pneumonia/083.jpeg',\n",
              " '/content/gdrive/My Drive/covid/train/Covid/COVID-00013a.jpg',\n",
              " '/content/gdrive/My Drive/covid/train/Covid/072.jpeg',\n",
              " '/content/gdrive/My Drive/covid/train/Covid/03.jpeg',\n",
              " '/content/gdrive/My Drive/covid/train/Viral Pneumonia/043.jpeg',\n",
              " '/content/gdrive/My Drive/covid/train/Covid/022.jpeg',\n",
              " '/content/gdrive/My Drive/covid/train/Covid/COVID-00026.jpg',\n",
              " '/content/gdrive/My Drive/covid/train/Viral Pneumonia/078.jpeg',\n",
              " '/content/gdrive/My Drive/covid/train/Covid/02.jpeg',\n",
              " '/content/gdrive/My Drive/covid/train/Covid/041.jpeg',\n",
              " '/content/gdrive/My Drive/covid/train/Covid/092.png',\n",
              " '/content/gdrive/My Drive/covid/train/Covid/048.jpeg',\n",
              " '/content/gdrive/My Drive/covid/train/Covid/064.jpg',\n",
              " '/content/gdrive/My Drive/covid/train/Covid/071.jpg',\n",
              " '/content/gdrive/My Drive/covid/train/Normal/081.jpeg',\n",
              " '/content/gdrive/My Drive/covid/train/Viral Pneumonia/08.jpeg',\n",
              " '/content/gdrive/My Drive/covid/train/Normal/074.jpeg',\n",
              " '/content/gdrive/My Drive/covid/train/Normal/096.jpeg',\n",
              " '/content/gdrive/My Drive/covid/train/Normal/021.jpeg',\n",
              " '/content/gdrive/My Drive/covid/train/Normal/064.jpeg',\n",
              " '/content/gdrive/My Drive/covid/train/Viral Pneumonia/05.jpeg',\n",
              " '/content/gdrive/My Drive/covid/train/Covid/COVID-00032.jpg',\n",
              " '/content/gdrive/My Drive/covid/train/Covid/045.jpeg',\n",
              " '/content/gdrive/My Drive/covid/train/Covid/COVID-00012.jpg',\n",
              " '/content/gdrive/My Drive/covid/train/Viral Pneumonia/011.jpeg',\n",
              " '/content/gdrive/My Drive/covid/train/Viral Pneumonia/068.jpeg',\n",
              " '/content/gdrive/My Drive/covid/train/Viral Pneumonia/096.jpeg',\n",
              " '/content/gdrive/My Drive/covid/train/Viral Pneumonia/036.jpeg',\n",
              " '/content/gdrive/My Drive/covid/train/Viral Pneumonia/061.jpeg',\n",
              " '/content/gdrive/My Drive/covid/train/Covid/COVID-00016.jpg',\n",
              " '/content/gdrive/My Drive/covid/train/Viral Pneumonia/095.jpeg',\n",
              " '/content/gdrive/My Drive/covid/train/Covid/089.jpg',\n",
              " '/content/gdrive/My Drive/covid/train/Covid/COVID-00018.jpg',\n",
              " '/content/gdrive/My Drive/covid/train/Covid/074.jpg',\n",
              " '/content/gdrive/My Drive/covid/train/Viral Pneumonia/027.jpeg',\n",
              " '/content/gdrive/My Drive/covid/train/Viral Pneumonia/067.jpeg',\n",
              " '/content/gdrive/My Drive/covid/train/Covid/043.jpeg',\n",
              " '/content/gdrive/My Drive/covid/train/Normal/050.jpeg',\n",
              " '/content/gdrive/My Drive/covid/train/Viral Pneumonia/035.jpeg',\n",
              " '/content/gdrive/My Drive/covid/train/Normal/062.jpeg']"
            ]
          },
          "metadata": {},
          "execution_count": 55
        }
      ]
    },
    {
      "cell_type": "code",
      "source": [
        "train_dataset.transform"
      ],
      "metadata": {
        "colab": {
          "base_uri": "https://localhost:8080/"
        },
        "id": "l6wxgQjb5g0z",
        "outputId": "022b1de9-b57f-4bce-b23a-4df0a4855203"
      },
      "execution_count": 9,
      "outputs": [
        {
          "output_type": "execute_result",
          "data": {
            "text/plain": [
              "Compose(\n",
              "    ToTensor()\n",
              "    Resize(size=(32, 32), interpolation=bilinear, max_size=None, antialias=None)\n",
              "    Normalize(mean=[0.485, 0.456, 0.406], std=[0.229, 0.224, 0.225])\n",
              ")"
            ]
          },
          "metadata": {},
          "execution_count": 9
        }
      ]
    },
    {
      "cell_type": "code",
      "source": [],
      "metadata": {
        "id": "Libb-rCCeTjO"
      },
      "execution_count": null,
      "outputs": []
    },
    {
      "cell_type": "markdown",
      "source": [
        "# **1) The dataloader to load the train and test datasets.**"
      ],
      "metadata": {
        "id": "9NQoiVgWz5x4"
      }
    },
    {
      "cell_type": "code",
      "source": [
        "#######################################################\n",
        "#                  Create Dataloader                     #\n",
        "#######################################################\n",
        "\n",
        "# Turn train and test custom Dataset's into DataLoader's\n",
        "from torch.utils.data import DataLoader\n",
        "trainloader = DataLoader(dataset=train_dataset, # use custom created train Dataset\n",
        "                                     batch_size=32, # how many samples per batch?\n",
        "                                     num_workers=0, # how many subprocesses to use for data loading? (higher = more)\n",
        "                                     shuffle=True) # shuffle the data?\n",
        "\n",
        "testloader = DataLoader(dataset=test_dataset, # use custom created test Dataset\n",
        "                                    batch_size=32, \n",
        "                                    num_workers=0, \n",
        "                                    shuffle=False) # don't usually need to shuffle testing data\n",
        "\n",
        "train_data_size = len(trainloader.dataset)\n",
        "test_data_size = len(testloader.dataset)\n",
        "\n",
        "print(train_data_size)\n",
        "print(test_data_size)\n"
      ],
      "metadata": {
        "colab": {
          "base_uri": "https://localhost:8080/"
        },
        "id": "M0JDm3kq5i9j",
        "outputId": "a018d6ca-0983-4869-90a8-6f2b31604d43"
      },
      "execution_count": 10,
      "outputs": [
        {
          "output_type": "stream",
          "name": "stdout",
          "text": [
            "251\n",
            "66\n"
          ]
        }
      ]
    },
    {
      "cell_type": "code",
      "source": [
        "next(iter(trainloader))[0].shape"
      ],
      "metadata": {
        "colab": {
          "base_uri": "https://localhost:8080/"
        },
        "id": "-Aia9joH5y1J",
        "outputId": "b8029a5e-2288-4c82-df60-7a035f94123a"
      },
      "execution_count": 11,
      "outputs": [
        {
          "output_type": "execute_result",
          "data": {
            "text/plain": [
              "torch.Size([32, 3, 32, 32])"
            ]
          },
          "metadata": {},
          "execution_count": 11
        }
      ]
    },
    {
      "cell_type": "code",
      "source": [
        "from torch.utils.data import DataLoader"
      ],
      "metadata": {
        "id": "To_XWFBwtMtn"
      },
      "execution_count": 12,
      "outputs": []
    },
    {
      "cell_type": "markdown",
      "source": [
        "# **2) The model definition**"
      ],
      "metadata": {
        "id": "FD5I3seQ0Epo"
      }
    },
    {
      "cell_type": "code",
      "source": [
        "## 1. DEFINE MODEL \n",
        "model = nn.Sequential(nn.Linear(3072, 128),\n",
        "                          nn.ReLU(),\n",
        "                          nn.Linear(128, 64),\n",
        "                          nn.Linear(64, 3),\n",
        "                          ) "
      ],
      "metadata": {
        "id": "5IJDNQgRtZzA"
      },
      "execution_count": 13,
      "outputs": []
    },
    {
      "cell_type": "code",
      "source": [
        "\n",
        "\n",
        "# 2. LOSS AND OPTIMIZER\n",
        "criterion = nn.CrossEntropyLoss()\n",
        "optimizer = optim.SGD(model.parameters(), lr=0.001, momentum=0.9)\n",
        "\n",
        "# 3. move the model to GPU\n",
        "device = torch.device('cuda:0' if torch.cuda.is_available() else 'cpu')\n",
        "model.to(device)\n"
      ],
      "metadata": {
        "colab": {
          "base_uri": "https://localhost:8080/"
        },
        "id": "1ai9oTRFt5WT",
        "outputId": "bbb3556d-f325-4c00-8e6d-60b4ee8a359b"
      },
      "execution_count": 14,
      "outputs": [
        {
          "output_type": "execute_result",
          "data": {
            "text/plain": [
              "Sequential(\n",
              "  (0): Linear(in_features=3072, out_features=128, bias=True)\n",
              "  (1): ReLU()\n",
              "  (2): Linear(in_features=128, out_features=64, bias=True)\n",
              "  (3): Linear(in_features=64, out_features=3, bias=True)\n",
              ")"
            ]
          },
          "metadata": {},
          "execution_count": 14
        }
      ]
    },
    {
      "cell_type": "code",
      "source": [
        "device"
      ],
      "metadata": {
        "colab": {
          "base_uri": "https://localhost:8080/"
        },
        "id": "GPePffb005uo",
        "outputId": "fc73a3d5-ebd1-42eb-d3b2-c1ee14b2b7a1"
      },
      "execution_count": null,
      "outputs": [
        {
          "output_type": "execute_result",
          "data": {
            "text/plain": [
              "device(type='cuda', index=0)"
            ]
          },
          "metadata": {},
          "execution_count": 50
        }
      ]
    },
    {
      "cell_type": "code",
      "source": [
        "import time # to calculate training time\n",
        "\n",
        "def train_and_validate(model, loss_criterion, optimizer, epochs=25):\n",
        "    '''\n",
        "    Function to train and validate\n",
        "    Parameters\n",
        "        :param model: Model to train and validate\n",
        "        :param loss_criterion: Loss Criterion to minimize\n",
        "        :param optimizer: Optimizer for computing gradients\n",
        "        :param epochs: Number of epochs (default=25)\n",
        "  \n",
        "    Returns\n",
        "        model: Trained Model with best validation accuracy\n",
        "        history: (dict object): Having training loss, accuracy and validation loss, accuracy\n",
        "    '''\n",
        "    \n",
        "    start = time.time()\n",
        "    history = []\n",
        "    best_acc = 0.0\n",
        "\n",
        "    for epoch in range(epochs):\n",
        "        epoch_start = time.time()\n",
        "        print(\"Epoch: {}/{}\".format(epoch+1, epochs))\n",
        "        \n",
        "        # Set to training mode\n",
        "        model.train()\n",
        "        \n",
        "        # Loss and Accuracy within the epoch\n",
        "        train_loss = 0.0\n",
        "        train_acc = 0.0\n",
        "        \n",
        "        valid_loss = 0.0\n",
        "        valid_acc = 0.0\n",
        "        \n",
        "        for i, (inputs, labels) in enumerate(trainloader):\n",
        "\n",
        "            inputs = inputs.to(device)\n",
        "            #reshape images so they can be fed to a nn.Linear()\n",
        "            inputs = inputs.view(inputs.size(0), -1)\n",
        "            labels = labels.to(device)\n",
        "            \n",
        "            # Clean existing gradients\n",
        "            optimizer.zero_grad()\n",
        "            \n",
        "            # Forward pass - compute outputs on input data using the model\n",
        "            outputs = model(inputs)\n",
        "            \n",
        "            # Compute loss\n",
        "            loss = loss_criterion(outputs, labels)\n",
        "            \n",
        "            # Backpropagate the gradients\n",
        "            loss.backward()\n",
        "            \n",
        "            # Update the parameters\n",
        "            optimizer.step()\n",
        "            \n",
        "            # Compute the total loss for the batch and add it to train_loss\n",
        "            train_loss += loss.item() * inputs.size(0)\n",
        "            \n",
        "            # Compute the accuracy\n",
        "            ret, predictions = torch.max(outputs.data, 1)\n",
        "            correct_counts = predictions.eq(labels.data.view_as(predictions))\n",
        "            \n",
        "            # Convert correct_counts to float and then compute the mean\n",
        "            acc = torch.mean(correct_counts.type(torch.FloatTensor))\n",
        "            \n",
        "            # Compute total accuracy in the whole batch and add to train_acc\n",
        "            train_acc += acc.item() * inputs.size(0)\n",
        "            \n",
        "            #print(\"Batch number: {:03d}, Training: Loss: {:.4f}, Accuracy: {:.4f}\".format(i, loss.item(), acc.item()))\n",
        "\n",
        "            \n",
        "        # Validation - No gradient tracking needed\n",
        "        with torch.no_grad():\n",
        "\n",
        "            # Set to evaluation mode\n",
        "            model.eval()\n",
        "\n",
        "            # Validation loop\n",
        "            for j, (inputs, labels) in enumerate(testloader):\n",
        "                inputs = inputs.to(device)\n",
        "                #reshape images so they can be fed to a nn.Linear()\n",
        "                inputs = inputs.view(inputs.size(0), -1)\n",
        "                labels = labels.to(device)\n",
        "\n",
        "                # Forward pass - compute outputs on input data using the model\n",
        "                outputs = model(inputs)\n",
        "\n",
        "                # Compute loss\n",
        "                loss = loss_criterion(outputs, labels)\n",
        "\n",
        "                # Compute the total loss for the batch and add it to valid_loss\n",
        "                valid_loss += loss.item() * inputs.size(0)\n",
        "\n",
        "                # Calculate validation accuracy\n",
        "                ret, predictions = torch.max(outputs.data, 1)\n",
        "                correct_counts = predictions.eq(labels.data.view_as(predictions))\n",
        "\n",
        "                # Convert correct_counts to float and then compute the mean\n",
        "                acc = torch.mean(correct_counts.type(torch.FloatTensor))\n",
        "\n",
        "                # Compute total accuracy in the whole batch and add to valid_acc\n",
        "                valid_acc += acc.item() * inputs.size(0)\n",
        "\n",
        "                #print(\"Validation Batch number: {:03d}, Validation: Loss: {:.4f}, Accuracy: {:.4f}\".format(j, loss.item(), acc.item()))\n",
        "            \n",
        "        # Find average training loss and training accuracy\n",
        "        avg_train_loss = train_loss/train_data_size \n",
        "        avg_train_acc = train_acc/train_data_size\n",
        "\n",
        "        # Find average training loss and training accuracy\n",
        "        avg_test_loss = valid_loss/test_data_size \n",
        "        avg_test_acc = valid_acc/test_data_size\n",
        "\n",
        "        history.append([avg_train_loss, avg_test_loss, avg_train_acc, avg_test_acc])\n",
        "                \n",
        "        epoch_end = time.time()\n",
        "    \n",
        "        print(\"Epoch : {:03d}, Training: Loss: {:.4f}, Accuracy: {:.4f}%, \\n\\t\\tValidation : Loss : {:.4f}, Accuracy: {:.4f}%, Time: {:.4f}s\".format(epoch, avg_train_loss, avg_train_acc*100, avg_test_loss, avg_test_acc*100, epoch_end-epoch_start))\n",
        "        \n",
        "        # Save if the model has best accuracy till now\n",
        "        torch.save(model, 'cifar10_model_'+str(epoch)+'.pt')\n",
        "            \n",
        "    return model, history\n"
      ],
      "metadata": {
        "id": "70FiVTm-1Eo9"
      },
      "execution_count": 15,
      "outputs": []
    },
    {
      "cell_type": "markdown",
      "source": [
        "# **3) The training loop.**"
      ],
      "metadata": {
        "id": "UwVAkD0f0L0L"
      }
    },
    {
      "cell_type": "code",
      "source": [
        "num_epochs = 10\n",
        "trained_model, history = train_and_validate(model, criterion, optimizer, num_epochs)"
      ],
      "metadata": {
        "colab": {
          "base_uri": "https://localhost:8080/"
        },
        "id": "p7tohEOz1L3c",
        "outputId": "e0b6143b-5c9e-45b8-e01c-e3c63fb2584d"
      },
      "execution_count": 16,
      "outputs": [
        {
          "output_type": "stream",
          "name": "stdout",
          "text": [
            "Epoch: 1/10\n",
            "Epoch : 000, Training: Loss: 1.0185, Accuracy: 51.3944%, \n",
            "\t\tValidation : Loss : 0.9294, Accuracy: 71.2121%, Time: 57.3998s\n",
            "Epoch: 2/10\n",
            "Epoch : 001, Training: Loss: 0.7726, Accuracy: 82.0717%, \n",
            "\t\tValidation : Loss : 0.7598, Accuracy: 66.6667%, Time: 19.5800s\n",
            "Epoch: 3/10\n",
            "Epoch : 002, Training: Loss: 0.5589, Accuracy: 86.8526%, \n",
            "\t\tValidation : Loss : 0.6324, Accuracy: 69.6970%, Time: 19.7896s\n",
            "Epoch: 4/10\n",
            "Epoch : 003, Training: Loss: 0.4244, Accuracy: 91.6335%, \n",
            "\t\tValidation : Loss : 0.5677, Accuracy: 71.2121%, Time: 19.6474s\n",
            "Epoch: 5/10\n",
            "Epoch : 004, Training: Loss: 0.3485, Accuracy: 91.2351%, \n",
            "\t\tValidation : Loss : 0.5280, Accuracy: 71.2121%, Time: 19.8472s\n",
            "Epoch: 6/10\n",
            "Epoch : 005, Training: Loss: 0.3059, Accuracy: 91.2351%, \n",
            "\t\tValidation : Loss : 0.5189, Accuracy: 71.2121%, Time: 19.7821s\n",
            "Epoch: 7/10\n",
            "Epoch : 006, Training: Loss: 0.2714, Accuracy: 92.0319%, \n",
            "\t\tValidation : Loss : 0.4789, Accuracy: 80.3030%, Time: 19.5694s\n",
            "Epoch: 8/10\n",
            "Epoch : 007, Training: Loss: 0.2482, Accuracy: 92.4303%, \n",
            "\t\tValidation : Loss : 0.4658, Accuracy: 80.3030%, Time: 19.8457s\n",
            "Epoch: 9/10\n",
            "Epoch : 008, Training: Loss: 0.2286, Accuracy: 92.4303%, \n",
            "\t\tValidation : Loss : 0.4494, Accuracy: 80.3030%, Time: 19.9769s\n",
            "Epoch: 10/10\n",
            "Epoch : 009, Training: Loss: 0.2100, Accuracy: 92.8287%, \n",
            "\t\tValidation : Loss : 0.4302, Accuracy: 81.8182%, Time: 19.9791s\n"
          ]
        }
      ]
    },
    {
      "cell_type": "markdown",
      "source": [
        "# **Output the mean accuracy for the whole testing dataset.**"
      ],
      "metadata": {
        "id": "3ObLT5551-5G"
      }
    },
    {
      "cell_type": "code",
      "source": [
        "correct = 0\n",
        "total = 0\n",
        "# since we're not training, we don't need to calculate the gradients for our outputs\n",
        "with torch.no_grad():\n",
        "    for data in testloader:\n",
        "#         images, labels = data\n",
        "        images, labels = data[0].to(device), data[1].to(device)\n",
        "        # calculate outputs by running images through the network\n",
        "        images = images.view(images.size(0), -1)\n",
        "        outputs = model(images)\n",
        "        # the class with the highest energy is what we choose as prediction\n",
        "        _, predicted = torch.max(outputs.data, 1)\n",
        "        total += labels.size(0)\n",
        "        correct += (predicted == labels).sum().item()\n",
        "\n",
        "print(f'Accuracy of the network on the 371 test images: {100 * correct // total} %')"
      ],
      "metadata": {
        "id": "Ffrqao4st_ej",
        "colab": {
          "base_uri": "https://localhost:8080/"
        },
        "outputId": "a66a8f56-e1e3-4ffa-b054-bc417a2fdd7f"
      },
      "execution_count": 20,
      "outputs": [
        {
          "output_type": "stream",
          "name": "stdout",
          "text": [
            "Accuracy of the network on the 371 test images: 81 %\n"
          ]
        }
      ]
    }
  ]
}